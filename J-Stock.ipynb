{
 "cells": [
  {
   "cell_type": "code",
   "execution_count": 1,
   "metadata": {},
   "outputs": [],
   "source": [
    "import json\n",
    "import yfinance as yf\n",
    "from linebot import LineBotApi\n",
    "from linebot.models import TextSendMessage"
   ]
  },
  {
   "cell_type": "code",
   "execution_count": 8,
   "metadata": {},
   "outputs": [
    {
     "name": "stderr",
     "output_type": "stream",
     "text": [
      "/var/folders/xh/wsvwlyt56h1481m13jkwmyy80000gn/T/ipykernel_79796/1631716924.py:8: LineBotSdkDeprecatedIn30: Call to deprecated class LineBotApi. (Use v3 class; linebot.v3.<feature>. See https://github.com/line/line-bot-sdk-python/blob/master/README.rst for more details.) -- Deprecated since version 3.0.0.\n",
      "  line_bot_api = LineBotApi(CHANNEL_ACCESS_TOKEN)\n"
     ]
    }
   ],
   "source": [
    "file1 = open(\"Japan-stock-info.json\", \"r\")\n",
    "stock_info = json.load(file1)\n",
    "\n",
    "file2 = open(\"info.json\", \"r\")\n",
    "LINE_info = json.load(file2)\n",
    "\n",
    "CHANNEL_ACCESS_TOKEN = LINE_info[\"CHANNEL_ACCESS_TOKEN\"]\n",
    "line_bot_api = LineBotApi(CHANNEL_ACCESS_TOKEN)"
   ]
  },
  {
   "cell_type": "code",
   "execution_count": 10,
   "metadata": {},
   "outputs": [
    {
     "data": {
      "text/plain": [
       "[{'code': '7203', 'name': 'トヨタ自動車'},\n",
       " {'code': '7974', 'name': '任天堂'},\n",
       " {'code': '9984', 'name': 'ソフトバンク'},\n",
       " {'code': '9983', 'name': 'ユニクロ'},\n",
       " {'code': '9064', 'name': 'ヤマト運輸'}]"
      ]
     },
     "execution_count": 10,
     "metadata": {},
     "output_type": "execute_result"
    }
   ],
   "source": [
    "stock_info"
   ]
  },
  {
   "cell_type": "code",
   "execution_count": 25,
   "metadata": {},
   "outputs": [
    {
     "name": "stdout",
     "output_type": "stream",
     "text": [
      "Date\n",
      "2024-06-05 00:00:00+09:00    3218.0\n",
      "Name: Close, dtype: float64\n"
     ]
    }
   ],
   "source": [
    "A = yf.Ticker(\"7203.T\")\n",
    "hist = A.history(period=\"1d\")[\"Close\"]\n",
    "print(hist)"
   ]
  },
  {
   "cell_type": "code",
   "execution_count": 27,
   "metadata": {},
   "outputs": [
    {
     "name": "stderr",
     "output_type": "stream",
     "text": [
      "/var/folders/xh/wsvwlyt56h1481m13jkwmyy80000gn/T/ipykernel_79796/2106620126.py:5: FutureWarning: Series.__getitem__ treating keys as positions is deprecated. In a future version, integer keys will always be treated as labels (consistent with DataFrame behavior). To access a value by position, use `ser.iloc[pos]`\n",
      "  stock[\"stock_price\"] = ticker.history(period=\"1d\")[\"Close\"][0]\n",
      "/var/folders/xh/wsvwlyt56h1481m13jkwmyy80000gn/T/ipykernel_79796/2106620126.py:6: FutureWarning: Series.__getitem__ treating keys as positions is deprecated. In a future version, integer keys will always be treated as labels (consistent with DataFrame behavior). To access a value by position, use `ser.iloc[pos]`\n",
      "  stock[\"stock_high\"] = ticker.history(period=\"1d\")[\"High\"][0]\n",
      "/var/folders/xh/wsvwlyt56h1481m13jkwmyy80000gn/T/ipykernel_79796/2106620126.py:7: FutureWarning: Series.__getitem__ treating keys as positions is deprecated. In a future version, integer keys will always be treated as labels (consistent with DataFrame behavior). To access a value by position, use `ser.iloc[pos]`\n",
      "  stock[\"stock_price_last_month\"] = ticker.history(period=\"1mo\")[\"Close\"][0]\n",
      "/var/folders/xh/wsvwlyt56h1481m13jkwmyy80000gn/T/ipykernel_79796/2106620126.py:14: LineBotSdkDeprecatedIn30: Call to deprecated method push_message. (Use 'from linebot.v3.messaging import MessagingApi' and 'MessagingApi(...).push_message(...)' instead. See https://github.com/line/line-bot-sdk-python/blob/master/README.rst for more details.) -- Deprecated since version 3.0.0.\n",
      "  line_bot_api.push_message(LINE_info[\"USER_ID\"], TextSendMessage(text=message))\n",
      "/var/folders/xh/wsvwlyt56h1481m13jkwmyy80000gn/T/ipykernel_79796/2106620126.py:5: FutureWarning: Series.__getitem__ treating keys as positions is deprecated. In a future version, integer keys will always be treated as labels (consistent with DataFrame behavior). To access a value by position, use `ser.iloc[pos]`\n",
      "  stock[\"stock_price\"] = ticker.history(period=\"1d\")[\"Close\"][0]\n",
      "/var/folders/xh/wsvwlyt56h1481m13jkwmyy80000gn/T/ipykernel_79796/2106620126.py:6: FutureWarning: Series.__getitem__ treating keys as positions is deprecated. In a future version, integer keys will always be treated as labels (consistent with DataFrame behavior). To access a value by position, use `ser.iloc[pos]`\n",
      "  stock[\"stock_high\"] = ticker.history(period=\"1d\")[\"High\"][0]\n",
      "/var/folders/xh/wsvwlyt56h1481m13jkwmyy80000gn/T/ipykernel_79796/2106620126.py:7: FutureWarning: Series.__getitem__ treating keys as positions is deprecated. In a future version, integer keys will always be treated as labels (consistent with DataFrame behavior). To access a value by position, use `ser.iloc[pos]`\n",
      "  stock[\"stock_price_last_month\"] = ticker.history(period=\"1mo\")[\"Close\"][0]\n",
      "/var/folders/xh/wsvwlyt56h1481m13jkwmyy80000gn/T/ipykernel_79796/2106620126.py:14: LineBotSdkDeprecatedIn30: Call to deprecated method push_message. (Use 'from linebot.v3.messaging import MessagingApi' and 'MessagingApi(...).push_message(...)' instead. See https://github.com/line/line-bot-sdk-python/blob/master/README.rst for more details.) -- Deprecated since version 3.0.0.\n",
      "  line_bot_api.push_message(LINE_info[\"USER_ID\"], TextSendMessage(text=message))\n",
      "/var/folders/xh/wsvwlyt56h1481m13jkwmyy80000gn/T/ipykernel_79796/2106620126.py:5: FutureWarning: Series.__getitem__ treating keys as positions is deprecated. In a future version, integer keys will always be treated as labels (consistent with DataFrame behavior). To access a value by position, use `ser.iloc[pos]`\n",
      "  stock[\"stock_price\"] = ticker.history(period=\"1d\")[\"Close\"][0]\n",
      "/var/folders/xh/wsvwlyt56h1481m13jkwmyy80000gn/T/ipykernel_79796/2106620126.py:6: FutureWarning: Series.__getitem__ treating keys as positions is deprecated. In a future version, integer keys will always be treated as labels (consistent with DataFrame behavior). To access a value by position, use `ser.iloc[pos]`\n",
      "  stock[\"stock_high\"] = ticker.history(period=\"1d\")[\"High\"][0]\n",
      "/var/folders/xh/wsvwlyt56h1481m13jkwmyy80000gn/T/ipykernel_79796/2106620126.py:7: FutureWarning: Series.__getitem__ treating keys as positions is deprecated. In a future version, integer keys will always be treated as labels (consistent with DataFrame behavior). To access a value by position, use `ser.iloc[pos]`\n",
      "  stock[\"stock_price_last_month\"] = ticker.history(period=\"1mo\")[\"Close\"][0]\n",
      "/var/folders/xh/wsvwlyt56h1481m13jkwmyy80000gn/T/ipykernel_79796/2106620126.py:14: LineBotSdkDeprecatedIn30: Call to deprecated method push_message. (Use 'from linebot.v3.messaging import MessagingApi' and 'MessagingApi(...).push_message(...)' instead. See https://github.com/line/line-bot-sdk-python/blob/master/README.rst for more details.) -- Deprecated since version 3.0.0.\n",
      "  line_bot_api.push_message(LINE_info[\"USER_ID\"], TextSendMessage(text=message))\n",
      "/var/folders/xh/wsvwlyt56h1481m13jkwmyy80000gn/T/ipykernel_79796/2106620126.py:5: FutureWarning: Series.__getitem__ treating keys as positions is deprecated. In a future version, integer keys will always be treated as labels (consistent with DataFrame behavior). To access a value by position, use `ser.iloc[pos]`\n",
      "  stock[\"stock_price\"] = ticker.history(period=\"1d\")[\"Close\"][0]\n",
      "/var/folders/xh/wsvwlyt56h1481m13jkwmyy80000gn/T/ipykernel_79796/2106620126.py:6: FutureWarning: Series.__getitem__ treating keys as positions is deprecated. In a future version, integer keys will always be treated as labels (consistent with DataFrame behavior). To access a value by position, use `ser.iloc[pos]`\n",
      "  stock[\"stock_high\"] = ticker.history(period=\"1d\")[\"High\"][0]\n",
      "/var/folders/xh/wsvwlyt56h1481m13jkwmyy80000gn/T/ipykernel_79796/2106620126.py:7: FutureWarning: Series.__getitem__ treating keys as positions is deprecated. In a future version, integer keys will always be treated as labels (consistent with DataFrame behavior). To access a value by position, use `ser.iloc[pos]`\n",
      "  stock[\"stock_price_last_month\"] = ticker.history(period=\"1mo\")[\"Close\"][0]\n",
      "/var/folders/xh/wsvwlyt56h1481m13jkwmyy80000gn/T/ipykernel_79796/2106620126.py:14: LineBotSdkDeprecatedIn30: Call to deprecated method push_message. (Use 'from linebot.v3.messaging import MessagingApi' and 'MessagingApi(...).push_message(...)' instead. See https://github.com/line/line-bot-sdk-python/blob/master/README.rst for more details.) -- Deprecated since version 3.0.0.\n",
      "  line_bot_api.push_message(LINE_info[\"USER_ID\"], TextSendMessage(text=message))\n",
      "/var/folders/xh/wsvwlyt56h1481m13jkwmyy80000gn/T/ipykernel_79796/2106620126.py:5: FutureWarning: Series.__getitem__ treating keys as positions is deprecated. In a future version, integer keys will always be treated as labels (consistent with DataFrame behavior). To access a value by position, use `ser.iloc[pos]`\n",
      "  stock[\"stock_price\"] = ticker.history(period=\"1d\")[\"Close\"][0]\n",
      "/var/folders/xh/wsvwlyt56h1481m13jkwmyy80000gn/T/ipykernel_79796/2106620126.py:6: FutureWarning: Series.__getitem__ treating keys as positions is deprecated. In a future version, integer keys will always be treated as labels (consistent with DataFrame behavior). To access a value by position, use `ser.iloc[pos]`\n",
      "  stock[\"stock_high\"] = ticker.history(period=\"1d\")[\"High\"][0]\n",
      "/var/folders/xh/wsvwlyt56h1481m13jkwmyy80000gn/T/ipykernel_79796/2106620126.py:7: FutureWarning: Series.__getitem__ treating keys as positions is deprecated. In a future version, integer keys will always be treated as labels (consistent with DataFrame behavior). To access a value by position, use `ser.iloc[pos]`\n",
      "  stock[\"stock_price_last_month\"] = ticker.history(period=\"1mo\")[\"Close\"][0]\n",
      "/var/folders/xh/wsvwlyt56h1481m13jkwmyy80000gn/T/ipykernel_79796/2106620126.py:14: LineBotSdkDeprecatedIn30: Call to deprecated method push_message. (Use 'from linebot.v3.messaging import MessagingApi' and 'MessagingApi(...).push_message(...)' instead. See https://github.com/line/line-bot-sdk-python/blob/master/README.rst for more details.) -- Deprecated since version 3.0.0.\n",
      "  line_bot_api.push_message(LINE_info[\"USER_ID\"], TextSendMessage(text=message))\n"
     ]
    }
   ],
   "source": [
    "for stock in stock_info:\n",
    "    stock_code = stock[\"code\"]\n",
    "    stock_name = stock[\"name\"]\n",
    "    ticker = yf.Ticker(stock_code + \".T\")\n",
    "    stock[\"stock_price\"] = ticker.history(period=\"1d\")[\"Close\"][0]\n",
    "    stock[\"stock_high\"] = ticker.history(period=\"1d\")[\"High\"][0]\n",
    "    stock[\"stock_price_last_month\"] = ticker.history(period=\"1mo\")[\"Close\"][0]\n",
    "\n",
    "    stock[\"stock_price_percent\"] = round((stock[\"stock_price\"] - stock[\"stock_price_last_month\"]) / stock[\"stock_price_last_month\"] * 100, 2)\n",
    "    if stock[\"stock_price_percent\"] > 0:\n",
    "        stock[\"stock_price_percent\"] = \"+\" + str(stock[\"stock_price_percent\"])\n",
    "\n",
    "    message = stock_name + \"の終値は\" + str(stock[\"stock_price\"]) + \"円です。\\n高値は\" + str(stock[\"stock_high\"]) + \"円です。\\n先月末の終値は\" + str(stock[\"stock_price_last_month\"]) + \"円で、\" + str(stock[\"stock_price_percent\"]) + \"%上昇しています。\"\n",
    "    line_bot_api.push_message(LINE_info[\"USER_ID\"], TextSendMessage(text=message))"
   ]
  }
 ],
 "metadata": {
  "kernelspec": {
   "display_name": "base",
   "language": "python",
   "name": "python3"
  },
  "language_info": {
   "codemirror_mode": {
    "name": "ipython",
    "version": 3
   },
   "file_extension": ".py",
   "mimetype": "text/x-python",
   "name": "python",
   "nbconvert_exporter": "python",
   "pygments_lexer": "ipython3",
   "version": "3.11.7"
  }
 },
 "nbformat": 4,
 "nbformat_minor": 2
}
